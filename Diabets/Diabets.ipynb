{
  "nbformat": 4,
  "nbformat_minor": 0,
  "metadata": {
    "colab": {
      "name": "Diabets.ipynb",
      "provenance": [],
      "collapsed_sections": [
        "0rIt32vtTguZ",
        "cyUqci78TmVA"
      ],
      "toc_visible": true
    },
    "kernelspec": {
      "display_name": "Python 3",
      "language": "python",
      "name": "python3"
    },
    "language_info": {
      "codemirror_mode": {
        "name": "ipython",
        "version": 3
      },
      "file_extension": ".py",
      "mimetype": "text/x-python",
      "name": "python",
      "nbconvert_exporter": "python",
      "pygments_lexer": "ipython3",
      "version": "3.8.3"
    },
    "widgets": {
      "application/vnd.jupyter.widget-state+json": {
        "5e4e871d0c374254b4584614180ac8af": {
          "model_module": "@jupyter-widgets/controls",
          "model_name": "VBoxModel",
          "model_module_version": "1.5.0",
          "state": {
            "_view_name": "VBoxView",
            "_dom_classes": [],
            "_model_name": "VBoxModel",
            "_view_module": "@jupyter-widgets/controls",
            "_model_module_version": "1.5.0",
            "_view_count": null,
            "_view_module_version": "1.5.0",
            "box_style": "",
            "layout": "IPY_MODEL_13f93e388ab94bef80c4721ca76ccd37",
            "_model_module": "@jupyter-widgets/controls",
            "children": [
              "IPY_MODEL_eac594f193464dbf91316b4d5b618478",
              "IPY_MODEL_4426a85f420e40d39ee4de4bd6cfed1e"
            ]
          }
        },
        "13f93e388ab94bef80c4721ca76ccd37": {
          "model_module": "@jupyter-widgets/base",
          "model_name": "LayoutModel",
          "model_module_version": "1.2.0",
          "state": {
            "_view_name": "LayoutView",
            "grid_template_rows": null,
            "right": null,
            "justify_content": null,
            "_view_module": "@jupyter-widgets/base",
            "overflow": null,
            "_model_module_version": "1.2.0",
            "_view_count": null,
            "flex_flow": null,
            "width": null,
            "min_width": null,
            "border": null,
            "align_items": null,
            "bottom": null,
            "_model_module": "@jupyter-widgets/base",
            "top": null,
            "grid_column": null,
            "overflow_y": null,
            "overflow_x": null,
            "grid_auto_flow": null,
            "grid_area": null,
            "grid_template_columns": null,
            "flex": null,
            "_model_name": "LayoutModel",
            "justify_items": null,
            "grid_row": null,
            "max_height": null,
            "align_content": null,
            "visibility": null,
            "align_self": null,
            "height": null,
            "min_height": null,
            "padding": null,
            "grid_auto_rows": null,
            "grid_gap": null,
            "max_width": null,
            "order": null,
            "_view_module_version": "1.2.0",
            "grid_template_areas": null,
            "object_position": null,
            "object_fit": null,
            "grid_auto_columns": null,
            "margin": null,
            "display": null,
            "left": null
          }
        },
        "eac594f193464dbf91316b4d5b618478": {
          "model_module": "@jupyter-widgets/controls",
          "model_name": "HTMLModel",
          "model_module_version": "1.5.0",
          "state": {
            "_view_name": "HTMLView",
            "style": "IPY_MODEL_ee579ebc01b74ca2ad1dc2559c4bb755",
            "_dom_classes": [],
            "description": "",
            "_model_name": "HTMLModel",
            "placeholder": "​",
            "_view_module": "@jupyter-widgets/controls",
            "_model_module_version": "1.5.0",
            "value": "4",
            "_view_count": null,
            "_view_module_version": "1.5.0",
            "description_tooltip": null,
            "_model_module": "@jupyter-widgets/controls",
            "layout": "IPY_MODEL_2e17952e115147b8aa872a938b400e72"
          }
        },
        "4426a85f420e40d39ee4de4bd6cfed1e": {
          "model_module": "@jupyter-widgets/controls",
          "model_name": "IntProgressModel",
          "model_module_version": "1.5.0",
          "state": {
            "_view_name": "ProgressView",
            "style": "IPY_MODEL_f33c065800a143b29ef4f275cb4c3f61",
            "_dom_classes": [],
            "description": "",
            "_model_name": "IntProgressModel",
            "bar_style": "success",
            "max": 4,
            "_view_module": "@jupyter-widgets/controls",
            "_model_module_version": "1.5.0",
            "value": 4,
            "_view_count": null,
            "_view_module_version": "1.5.0",
            "orientation": "horizontal",
            "min": 0,
            "description_tooltip": null,
            "_model_module": "@jupyter-widgets/controls",
            "layout": "IPY_MODEL_8b9dd5d990b34d96b1d0d3b88ea5fdf0"
          }
        },
        "ee579ebc01b74ca2ad1dc2559c4bb755": {
          "model_module": "@jupyter-widgets/controls",
          "model_name": "DescriptionStyleModel",
          "model_module_version": "1.5.0",
          "state": {
            "_view_name": "StyleView",
            "_model_name": "DescriptionStyleModel",
            "description_width": "",
            "_view_module": "@jupyter-widgets/base",
            "_model_module_version": "1.5.0",
            "_view_count": null,
            "_view_module_version": "1.2.0",
            "_model_module": "@jupyter-widgets/controls"
          }
        },
        "2e17952e115147b8aa872a938b400e72": {
          "model_module": "@jupyter-widgets/base",
          "model_name": "LayoutModel",
          "model_module_version": "1.2.0",
          "state": {
            "_view_name": "LayoutView",
            "grid_template_rows": null,
            "right": null,
            "justify_content": null,
            "_view_module": "@jupyter-widgets/base",
            "overflow": null,
            "_model_module_version": "1.2.0",
            "_view_count": null,
            "flex_flow": null,
            "width": null,
            "min_width": null,
            "border": null,
            "align_items": null,
            "bottom": null,
            "_model_module": "@jupyter-widgets/base",
            "top": null,
            "grid_column": null,
            "overflow_y": null,
            "overflow_x": null,
            "grid_auto_flow": null,
            "grid_area": null,
            "grid_template_columns": null,
            "flex": null,
            "_model_name": "LayoutModel",
            "justify_items": null,
            "grid_row": null,
            "max_height": null,
            "align_content": null,
            "visibility": null,
            "align_self": null,
            "height": null,
            "min_height": null,
            "padding": null,
            "grid_auto_rows": null,
            "grid_gap": null,
            "max_width": null,
            "order": null,
            "_view_module_version": "1.2.0",
            "grid_template_areas": null,
            "object_position": null,
            "object_fit": null,
            "grid_auto_columns": null,
            "margin": null,
            "display": null,
            "left": null
          }
        },
        "f33c065800a143b29ef4f275cb4c3f61": {
          "model_module": "@jupyter-widgets/controls",
          "model_name": "ProgressStyleModel",
          "model_module_version": "1.5.0",
          "state": {
            "_view_name": "StyleView",
            "_model_name": "ProgressStyleModel",
            "description_width": "",
            "_view_module": "@jupyter-widgets/base",
            "_model_module_version": "1.5.0",
            "_view_count": null,
            "_view_module_version": "1.2.0",
            "bar_color": null,
            "_model_module": "@jupyter-widgets/controls"
          }
        },
        "8b9dd5d990b34d96b1d0d3b88ea5fdf0": {
          "model_module": "@jupyter-widgets/base",
          "model_name": "LayoutModel",
          "model_module_version": "1.2.0",
          "state": {
            "_view_name": "LayoutView",
            "grid_template_rows": null,
            "right": null,
            "justify_content": null,
            "_view_module": "@jupyter-widgets/base",
            "overflow": null,
            "_model_module_version": "1.2.0",
            "_view_count": null,
            "flex_flow": null,
            "width": null,
            "min_width": null,
            "border": null,
            "align_items": null,
            "bottom": null,
            "_model_module": "@jupyter-widgets/base",
            "top": null,
            "grid_column": null,
            "overflow_y": null,
            "overflow_x": null,
            "grid_auto_flow": null,
            "grid_area": null,
            "grid_template_columns": null,
            "flex": null,
            "_model_name": "LayoutModel",
            "justify_items": null,
            "grid_row": null,
            "max_height": null,
            "align_content": null,
            "visibility": null,
            "align_self": null,
            "height": null,
            "min_height": null,
            "padding": null,
            "grid_auto_rows": null,
            "grid_gap": null,
            "max_width": null,
            "order": null,
            "_view_module_version": "1.2.0",
            "grid_template_areas": null,
            "object_position": null,
            "object_fit": null,
            "grid_auto_columns": null,
            "margin": null,
            "display": null,
            "left": null
          }
        }
      }
    }
  },
  "cells": [
    {
      "cell_type": "code",
      "metadata": {
        "id": "KegwoDn6TguS"
      },
      "source": [
        "import numpy as np\n",
        "import pandas as pd\n",
        "import matplotlib.pyplot as plt\n",
        "%matplotlib inline\n",
        "import seaborn as sns"
      ],
      "execution_count": 1,
      "outputs": []
    },
    {
      "cell_type": "markdown",
      "metadata": {
        "id": "8M37TpS7TguT"
      },
      "source": [
        "# Загрузка данных"
      ]
    },
    {
      "cell_type": "code",
      "metadata": {
        "id": "Ud46QB2a06T-"
      },
      "source": [
        "import io\n",
        "import requests\n",
        "def read_csv(url, sep = ','):\n",
        "    s=requests.get(url).content\n",
        "    return(pd.read_csv(io.StringIO(s.decode('utf-8')), sep = sep))"
      ],
      "execution_count": 5,
      "outputs": []
    },
    {
      "cell_type": "code",
      "metadata": {
        "id": "AGW2I5LgTguU"
      },
      "source": [
        "df = read_csv('https://raw.githubusercontent.com/yupest/analysis-and-data-visualisation/main/Diabets/DATA/pima.txt', sep = '\\t')"
      ],
      "execution_count": 81,
      "outputs": []
    },
    {
      "cell_type": "markdown",
      "metadata": {
        "id": "YBIHNEh4TguU"
      },
      "source": [
        "Данные"
      ]
    },
    {
      "cell_type": "code",
      "metadata": {
        "colab": {
          "base_uri": "https://localhost:8080/"
        },
        "id": "bLvpRwRpTguU",
        "outputId": "b88882a7-5c6a-489c-9fdd-c5ba8537bf80"
      },
      "source": [
        "df.columns"
      ],
      "execution_count": 7,
      "outputs": [
        {
          "output_type": "execute_result",
          "data": {
            "text/plain": [
              "Index(['pregnant', 'glucose', 'diastolic', 'triceps', 'insulin', 'bmi',\n",
              "       'diabetes', 'age', 'test'],\n",
              "      dtype='object')"
            ]
          },
          "metadata": {},
          "execution_count": 7
        }
      ]
    },
    {
      "cell_type": "markdown",
      "metadata": {
        "id": "HyI7srZ5TguW"
      },
      "source": [
        "- `'pregnant'` - количество беременностей, \n",
        "- `'glucose'` - содержание глюкозы (? норма - 590-1080 мг), \n",
        "- `'diastolic'` - диастолическое давление – это вторая цифра, характеризующая напор крови, когда сердечная мышца расслаблена., \n",
        "- `'triceps'` - толщина кожной складки трицепса , \n",
        "- `'insulin'` - содержание инсулина, \n",
        "- `'bmi'` - индекс массы тела,\n",
        "- `'diabetes'` - преддиабет, \n",
        "- `'age'` - возраст, \n",
        "- `'test'` - диобет"
      ]
    },
    {
      "cell_type": "code",
      "metadata": {
        "colab": {
          "base_uri": "https://localhost:8080/",
          "height": 414
        },
        "id": "sHx2f9wPTguW",
        "outputId": "0da8fd6e-a2a2-4ea6-c858-917e067ffb3f"
      },
      "source": [
        "df"
      ],
      "execution_count": 8,
      "outputs": [
        {
          "output_type": "execute_result",
          "data": {
            "text/html": [
              "<div>\n",
              "<style scoped>\n",
              "    .dataframe tbody tr th:only-of-type {\n",
              "        vertical-align: middle;\n",
              "    }\n",
              "\n",
              "    .dataframe tbody tr th {\n",
              "        vertical-align: top;\n",
              "    }\n",
              "\n",
              "    .dataframe thead th {\n",
              "        text-align: right;\n",
              "    }\n",
              "</style>\n",
              "<table border=\"1\" class=\"dataframe\">\n",
              "  <thead>\n",
              "    <tr style=\"text-align: right;\">\n",
              "      <th></th>\n",
              "      <th>pregnant</th>\n",
              "      <th>glucose</th>\n",
              "      <th>diastolic</th>\n",
              "      <th>triceps</th>\n",
              "      <th>insulin</th>\n",
              "      <th>bmi</th>\n",
              "      <th>diabetes</th>\n",
              "      <th>age</th>\n",
              "      <th>test</th>\n",
              "    </tr>\n",
              "  </thead>\n",
              "  <tbody>\n",
              "    <tr>\n",
              "      <th>1</th>\n",
              "      <td>6</td>\n",
              "      <td>148</td>\n",
              "      <td>72</td>\n",
              "      <td>35</td>\n",
              "      <td>0</td>\n",
              "      <td>33.6</td>\n",
              "      <td>0.627</td>\n",
              "      <td>50</td>\n",
              "      <td>1</td>\n",
              "    </tr>\n",
              "    <tr>\n",
              "      <th>2</th>\n",
              "      <td>1</td>\n",
              "      <td>85</td>\n",
              "      <td>66</td>\n",
              "      <td>29</td>\n",
              "      <td>0</td>\n",
              "      <td>26.6</td>\n",
              "      <td>0.351</td>\n",
              "      <td>31</td>\n",
              "      <td>0</td>\n",
              "    </tr>\n",
              "    <tr>\n",
              "      <th>3</th>\n",
              "      <td>8</td>\n",
              "      <td>183</td>\n",
              "      <td>64</td>\n",
              "      <td>0</td>\n",
              "      <td>0</td>\n",
              "      <td>23.3</td>\n",
              "      <td>0.672</td>\n",
              "      <td>32</td>\n",
              "      <td>1</td>\n",
              "    </tr>\n",
              "    <tr>\n",
              "      <th>4</th>\n",
              "      <td>1</td>\n",
              "      <td>89</td>\n",
              "      <td>66</td>\n",
              "      <td>23</td>\n",
              "      <td>94</td>\n",
              "      <td>28.1</td>\n",
              "      <td>0.167</td>\n",
              "      <td>21</td>\n",
              "      <td>0</td>\n",
              "    </tr>\n",
              "    <tr>\n",
              "      <th>5</th>\n",
              "      <td>0</td>\n",
              "      <td>137</td>\n",
              "      <td>40</td>\n",
              "      <td>35</td>\n",
              "      <td>168</td>\n",
              "      <td>43.1</td>\n",
              "      <td>2.288</td>\n",
              "      <td>33</td>\n",
              "      <td>1</td>\n",
              "    </tr>\n",
              "    <tr>\n",
              "      <th>...</th>\n",
              "      <td>...</td>\n",
              "      <td>...</td>\n",
              "      <td>...</td>\n",
              "      <td>...</td>\n",
              "      <td>...</td>\n",
              "      <td>...</td>\n",
              "      <td>...</td>\n",
              "      <td>...</td>\n",
              "      <td>...</td>\n",
              "    </tr>\n",
              "    <tr>\n",
              "      <th>764</th>\n",
              "      <td>10</td>\n",
              "      <td>101</td>\n",
              "      <td>76</td>\n",
              "      <td>48</td>\n",
              "      <td>180</td>\n",
              "      <td>32.9</td>\n",
              "      <td>0.171</td>\n",
              "      <td>63</td>\n",
              "      <td>0</td>\n",
              "    </tr>\n",
              "    <tr>\n",
              "      <th>765</th>\n",
              "      <td>2</td>\n",
              "      <td>122</td>\n",
              "      <td>70</td>\n",
              "      <td>27</td>\n",
              "      <td>0</td>\n",
              "      <td>36.8</td>\n",
              "      <td>0.340</td>\n",
              "      <td>27</td>\n",
              "      <td>0</td>\n",
              "    </tr>\n",
              "    <tr>\n",
              "      <th>766</th>\n",
              "      <td>5</td>\n",
              "      <td>121</td>\n",
              "      <td>72</td>\n",
              "      <td>23</td>\n",
              "      <td>112</td>\n",
              "      <td>26.2</td>\n",
              "      <td>0.245</td>\n",
              "      <td>30</td>\n",
              "      <td>0</td>\n",
              "    </tr>\n",
              "    <tr>\n",
              "      <th>767</th>\n",
              "      <td>1</td>\n",
              "      <td>126</td>\n",
              "      <td>60</td>\n",
              "      <td>0</td>\n",
              "      <td>0</td>\n",
              "      <td>30.1</td>\n",
              "      <td>0.349</td>\n",
              "      <td>47</td>\n",
              "      <td>1</td>\n",
              "    </tr>\n",
              "    <tr>\n",
              "      <th>768</th>\n",
              "      <td>1</td>\n",
              "      <td>93</td>\n",
              "      <td>70</td>\n",
              "      <td>31</td>\n",
              "      <td>0</td>\n",
              "      <td>30.4</td>\n",
              "      <td>0.315</td>\n",
              "      <td>23</td>\n",
              "      <td>0</td>\n",
              "    </tr>\n",
              "  </tbody>\n",
              "</table>\n",
              "<p>768 rows × 9 columns</p>\n",
              "</div>"
            ],
            "text/plain": [
              "     pregnant  glucose  diastolic  triceps  insulin   bmi  diabetes  age  test\n",
              "1           6      148         72       35        0  33.6     0.627   50     1\n",
              "2           1       85         66       29        0  26.6     0.351   31     0\n",
              "3           8      183         64        0        0  23.3     0.672   32     1\n",
              "4           1       89         66       23       94  28.1     0.167   21     0\n",
              "5           0      137         40       35      168  43.1     2.288   33     1\n",
              "..        ...      ...        ...      ...      ...   ...       ...  ...   ...\n",
              "764        10      101         76       48      180  32.9     0.171   63     0\n",
              "765         2      122         70       27        0  36.8     0.340   27     0\n",
              "766         5      121         72       23      112  26.2     0.245   30     0\n",
              "767         1      126         60        0        0  30.1     0.349   47     1\n",
              "768         1       93         70       31        0  30.4     0.315   23     0\n",
              "\n",
              "[768 rows x 9 columns]"
            ]
          },
          "metadata": {},
          "execution_count": 8
        }
      ]
    },
    {
      "cell_type": "markdown",
      "metadata": {
        "id": "anry5ub2TguX"
      },
      "source": [
        "Размер данных"
      ]
    },
    {
      "cell_type": "code",
      "metadata": {
        "colab": {
          "base_uri": "https://localhost:8080/"
        },
        "id": "mTr0wSyRTguX",
        "outputId": "a5ae436b-76aa-4e4e-c935-003217c51ff9"
      },
      "source": [
        "df.shape"
      ],
      "execution_count": 9,
      "outputs": [
        {
          "output_type": "execute_result",
          "data": {
            "text/plain": [
              "(768, 9)"
            ]
          },
          "metadata": {},
          "execution_count": 9
        }
      ]
    },
    {
      "cell_type": "markdown",
      "metadata": {
        "id": "R2a-Sdzw5Ih5"
      },
      "source": [
        "Краткая статистика"
      ]
    },
    {
      "cell_type": "code",
      "metadata": {
        "colab": {
          "base_uri": "https://localhost:8080/",
          "height": 294
        },
        "id": "luQ_4Ok249rq",
        "outputId": "f387dc1c-a17e-402c-cc66-6941d2f0ef86"
      },
      "source": [
        "df.describe()"
      ],
      "execution_count": 10,
      "outputs": [
        {
          "output_type": "execute_result",
          "data": {
            "text/html": [
              "<div>\n",
              "<style scoped>\n",
              "    .dataframe tbody tr th:only-of-type {\n",
              "        vertical-align: middle;\n",
              "    }\n",
              "\n",
              "    .dataframe tbody tr th {\n",
              "        vertical-align: top;\n",
              "    }\n",
              "\n",
              "    .dataframe thead th {\n",
              "        text-align: right;\n",
              "    }\n",
              "</style>\n",
              "<table border=\"1\" class=\"dataframe\">\n",
              "  <thead>\n",
              "    <tr style=\"text-align: right;\">\n",
              "      <th></th>\n",
              "      <th>pregnant</th>\n",
              "      <th>glucose</th>\n",
              "      <th>diastolic</th>\n",
              "      <th>triceps</th>\n",
              "      <th>insulin</th>\n",
              "      <th>bmi</th>\n",
              "      <th>diabetes</th>\n",
              "      <th>age</th>\n",
              "      <th>test</th>\n",
              "    </tr>\n",
              "  </thead>\n",
              "  <tbody>\n",
              "    <tr>\n",
              "      <th>count</th>\n",
              "      <td>768.000000</td>\n",
              "      <td>768.000000</td>\n",
              "      <td>768.000000</td>\n",
              "      <td>768.000000</td>\n",
              "      <td>768.000000</td>\n",
              "      <td>768.000000</td>\n",
              "      <td>768.000000</td>\n",
              "      <td>768.000000</td>\n",
              "      <td>768.000000</td>\n",
              "    </tr>\n",
              "    <tr>\n",
              "      <th>mean</th>\n",
              "      <td>3.845052</td>\n",
              "      <td>120.894531</td>\n",
              "      <td>69.105469</td>\n",
              "      <td>20.536458</td>\n",
              "      <td>79.799479</td>\n",
              "      <td>31.992578</td>\n",
              "      <td>0.471876</td>\n",
              "      <td>33.240885</td>\n",
              "      <td>0.348958</td>\n",
              "    </tr>\n",
              "    <tr>\n",
              "      <th>std</th>\n",
              "      <td>3.369578</td>\n",
              "      <td>31.972618</td>\n",
              "      <td>19.355807</td>\n",
              "      <td>15.952218</td>\n",
              "      <td>115.244002</td>\n",
              "      <td>7.884160</td>\n",
              "      <td>0.331329</td>\n",
              "      <td>11.760232</td>\n",
              "      <td>0.476951</td>\n",
              "    </tr>\n",
              "    <tr>\n",
              "      <th>min</th>\n",
              "      <td>0.000000</td>\n",
              "      <td>0.000000</td>\n",
              "      <td>0.000000</td>\n",
              "      <td>0.000000</td>\n",
              "      <td>0.000000</td>\n",
              "      <td>0.000000</td>\n",
              "      <td>0.078000</td>\n",
              "      <td>21.000000</td>\n",
              "      <td>0.000000</td>\n",
              "    </tr>\n",
              "    <tr>\n",
              "      <th>25%</th>\n",
              "      <td>1.000000</td>\n",
              "      <td>99.000000</td>\n",
              "      <td>62.000000</td>\n",
              "      <td>0.000000</td>\n",
              "      <td>0.000000</td>\n",
              "      <td>27.300000</td>\n",
              "      <td>0.243750</td>\n",
              "      <td>24.000000</td>\n",
              "      <td>0.000000</td>\n",
              "    </tr>\n",
              "    <tr>\n",
              "      <th>50%</th>\n",
              "      <td>3.000000</td>\n",
              "      <td>117.000000</td>\n",
              "      <td>72.000000</td>\n",
              "      <td>23.000000</td>\n",
              "      <td>30.500000</td>\n",
              "      <td>32.000000</td>\n",
              "      <td>0.372500</td>\n",
              "      <td>29.000000</td>\n",
              "      <td>0.000000</td>\n",
              "    </tr>\n",
              "    <tr>\n",
              "      <th>75%</th>\n",
              "      <td>6.000000</td>\n",
              "      <td>140.250000</td>\n",
              "      <td>80.000000</td>\n",
              "      <td>32.000000</td>\n",
              "      <td>127.250000</td>\n",
              "      <td>36.600000</td>\n",
              "      <td>0.626250</td>\n",
              "      <td>41.000000</td>\n",
              "      <td>1.000000</td>\n",
              "    </tr>\n",
              "    <tr>\n",
              "      <th>max</th>\n",
              "      <td>17.000000</td>\n",
              "      <td>199.000000</td>\n",
              "      <td>122.000000</td>\n",
              "      <td>99.000000</td>\n",
              "      <td>846.000000</td>\n",
              "      <td>67.100000</td>\n",
              "      <td>2.420000</td>\n",
              "      <td>81.000000</td>\n",
              "      <td>1.000000</td>\n",
              "    </tr>\n",
              "  </tbody>\n",
              "</table>\n",
              "</div>"
            ],
            "text/plain": [
              "         pregnant     glucose   diastolic  ...    diabetes         age        test\n",
              "count  768.000000  768.000000  768.000000  ...  768.000000  768.000000  768.000000\n",
              "mean     3.845052  120.894531   69.105469  ...    0.471876   33.240885    0.348958\n",
              "std      3.369578   31.972618   19.355807  ...    0.331329   11.760232    0.476951\n",
              "min      0.000000    0.000000    0.000000  ...    0.078000   21.000000    0.000000\n",
              "25%      1.000000   99.000000   62.000000  ...    0.243750   24.000000    0.000000\n",
              "50%      3.000000  117.000000   72.000000  ...    0.372500   29.000000    0.000000\n",
              "75%      6.000000  140.250000   80.000000  ...    0.626250   41.000000    1.000000\n",
              "max     17.000000  199.000000  122.000000  ...    2.420000   81.000000    1.000000\n",
              "\n",
              "[8 rows x 9 columns]"
            ]
          },
          "metadata": {},
          "execution_count": 10
        }
      ]
    },
    {
      "cell_type": "markdown",
      "metadata": {
        "id": "RWbKJJor5K77"
      },
      "source": [
        "Поиск нулевых значений"
      ]
    },
    {
      "cell_type": "code",
      "metadata": {
        "colab": {
          "base_uri": "https://localhost:8080/"
        },
        "id": "5gwWnCnN5At5",
        "outputId": "3dbdb98b-4fd6-47c8-f57f-83370c0cef48"
      },
      "source": [
        "df.info()"
      ],
      "execution_count": 11,
      "outputs": [
        {
          "output_type": "stream",
          "name": "stdout",
          "text": [
            "<class 'pandas.core.frame.DataFrame'>\n",
            "Int64Index: 768 entries, 1 to 768\n",
            "Data columns (total 9 columns):\n",
            " #   Column     Non-Null Count  Dtype  \n",
            "---  ------     --------------  -----  \n",
            " 0   pregnant   768 non-null    int64  \n",
            " 1   glucose    768 non-null    int64  \n",
            " 2   diastolic  768 non-null    int64  \n",
            " 3   triceps    768 non-null    int64  \n",
            " 4   insulin    768 non-null    int64  \n",
            " 5   bmi        768 non-null    float64\n",
            " 6   diabetes   768 non-null    float64\n",
            " 7   age        768 non-null    int64  \n",
            " 8   test       768 non-null    int64  \n",
            "dtypes: float64(2), int64(7)\n",
            "memory usage: 60.0 KB\n"
          ]
        }
      ]
    },
    {
      "cell_type": "markdown",
      "metadata": {
        "id": "q1mOGxcJTguX"
      },
      "source": [
        "Проверка нулевых значений"
      ]
    },
    {
      "cell_type": "code",
      "metadata": {
        "colab": {
          "base_uri": "https://localhost:8080/"
        },
        "id": "ffmVHgQ3TguX",
        "outputId": "20ce5689-7688-42dd-f6d3-86682f930f2c"
      },
      "source": [
        "df.isnull().values.any()"
      ],
      "execution_count": null,
      "outputs": [
        {
          "output_type": "execute_result",
          "data": {
            "text/plain": [
              "False"
            ]
          },
          "metadata": {
            "tags": []
          },
          "execution_count": 7
        }
      ]
    },
    {
      "cell_type": "markdown",
      "metadata": {
        "id": "bUKPYHNUTguX"
      },
      "source": [
        "# Проверка корреляций\n",
        "\n",
        "Функция строит графическую корреляционную матрицу для каждой пары столбцов в фрейме данных. Желтый цвет означает, что они сильно коррелируют."
      ]
    },
    {
      "cell_type": "code",
      "metadata": {
        "colab": {
          "base_uri": "https://localhost:8080/",
          "height": 324
        },
        "id": "MPsFIIy-5Wcf",
        "outputId": "8e8aa758-8e38-4b6b-f8cc-2d244df5e020"
      },
      "source": [
        "df.corr()"
      ],
      "execution_count": 15,
      "outputs": [
        {
          "output_type": "execute_result",
          "data": {
            "text/html": [
              "<div>\n",
              "<style scoped>\n",
              "    .dataframe tbody tr th:only-of-type {\n",
              "        vertical-align: middle;\n",
              "    }\n",
              "\n",
              "    .dataframe tbody tr th {\n",
              "        vertical-align: top;\n",
              "    }\n",
              "\n",
              "    .dataframe thead th {\n",
              "        text-align: right;\n",
              "    }\n",
              "</style>\n",
              "<table border=\"1\" class=\"dataframe\">\n",
              "  <thead>\n",
              "    <tr style=\"text-align: right;\">\n",
              "      <th></th>\n",
              "      <th>pregnant</th>\n",
              "      <th>glucose</th>\n",
              "      <th>diastolic</th>\n",
              "      <th>triceps</th>\n",
              "      <th>insulin</th>\n",
              "      <th>bmi</th>\n",
              "      <th>diabetes</th>\n",
              "      <th>age</th>\n",
              "      <th>test</th>\n",
              "    </tr>\n",
              "  </thead>\n",
              "  <tbody>\n",
              "    <tr>\n",
              "      <th>pregnant</th>\n",
              "      <td>1.000000</td>\n",
              "      <td>0.129459</td>\n",
              "      <td>0.141282</td>\n",
              "      <td>-0.081672</td>\n",
              "      <td>-0.073535</td>\n",
              "      <td>0.017683</td>\n",
              "      <td>-0.033523</td>\n",
              "      <td>0.544341</td>\n",
              "      <td>0.221898</td>\n",
              "    </tr>\n",
              "    <tr>\n",
              "      <th>glucose</th>\n",
              "      <td>0.129459</td>\n",
              "      <td>1.000000</td>\n",
              "      <td>0.152590</td>\n",
              "      <td>0.057328</td>\n",
              "      <td>0.331357</td>\n",
              "      <td>0.221071</td>\n",
              "      <td>0.137337</td>\n",
              "      <td>0.263514</td>\n",
              "      <td>0.466581</td>\n",
              "    </tr>\n",
              "    <tr>\n",
              "      <th>diastolic</th>\n",
              "      <td>0.141282</td>\n",
              "      <td>0.152590</td>\n",
              "      <td>1.000000</td>\n",
              "      <td>0.207371</td>\n",
              "      <td>0.088933</td>\n",
              "      <td>0.281805</td>\n",
              "      <td>0.041265</td>\n",
              "      <td>0.239528</td>\n",
              "      <td>0.065068</td>\n",
              "    </tr>\n",
              "    <tr>\n",
              "      <th>triceps</th>\n",
              "      <td>-0.081672</td>\n",
              "      <td>0.057328</td>\n",
              "      <td>0.207371</td>\n",
              "      <td>1.000000</td>\n",
              "      <td>0.436783</td>\n",
              "      <td>0.392573</td>\n",
              "      <td>0.183928</td>\n",
              "      <td>-0.113970</td>\n",
              "      <td>0.074752</td>\n",
              "    </tr>\n",
              "    <tr>\n",
              "      <th>insulin</th>\n",
              "      <td>-0.073535</td>\n",
              "      <td>0.331357</td>\n",
              "      <td>0.088933</td>\n",
              "      <td>0.436783</td>\n",
              "      <td>1.000000</td>\n",
              "      <td>0.197859</td>\n",
              "      <td>0.185071</td>\n",
              "      <td>-0.042163</td>\n",
              "      <td>0.130548</td>\n",
              "    </tr>\n",
              "    <tr>\n",
              "      <th>bmi</th>\n",
              "      <td>0.017683</td>\n",
              "      <td>0.221071</td>\n",
              "      <td>0.281805</td>\n",
              "      <td>0.392573</td>\n",
              "      <td>0.197859</td>\n",
              "      <td>1.000000</td>\n",
              "      <td>0.140647</td>\n",
              "      <td>0.036242</td>\n",
              "      <td>0.292695</td>\n",
              "    </tr>\n",
              "    <tr>\n",
              "      <th>diabetes</th>\n",
              "      <td>-0.033523</td>\n",
              "      <td>0.137337</td>\n",
              "      <td>0.041265</td>\n",
              "      <td>0.183928</td>\n",
              "      <td>0.185071</td>\n",
              "      <td>0.140647</td>\n",
              "      <td>1.000000</td>\n",
              "      <td>0.033561</td>\n",
              "      <td>0.173844</td>\n",
              "    </tr>\n",
              "    <tr>\n",
              "      <th>age</th>\n",
              "      <td>0.544341</td>\n",
              "      <td>0.263514</td>\n",
              "      <td>0.239528</td>\n",
              "      <td>-0.113970</td>\n",
              "      <td>-0.042163</td>\n",
              "      <td>0.036242</td>\n",
              "      <td>0.033561</td>\n",
              "      <td>1.000000</td>\n",
              "      <td>0.238356</td>\n",
              "    </tr>\n",
              "    <tr>\n",
              "      <th>test</th>\n",
              "      <td>0.221898</td>\n",
              "      <td>0.466581</td>\n",
              "      <td>0.065068</td>\n",
              "      <td>0.074752</td>\n",
              "      <td>0.130548</td>\n",
              "      <td>0.292695</td>\n",
              "      <td>0.173844</td>\n",
              "      <td>0.238356</td>\n",
              "      <td>1.000000</td>\n",
              "    </tr>\n",
              "  </tbody>\n",
              "</table>\n",
              "</div>"
            ],
            "text/plain": [
              "           pregnant   glucose  diastolic  ...  diabetes       age      test\n",
              "pregnant   1.000000  0.129459   0.141282  ... -0.033523  0.544341  0.221898\n",
              "glucose    0.129459  1.000000   0.152590  ...  0.137337  0.263514  0.466581\n",
              "diastolic  0.141282  0.152590   1.000000  ...  0.041265  0.239528  0.065068\n",
              "triceps   -0.081672  0.057328   0.207371  ...  0.183928 -0.113970  0.074752\n",
              "insulin   -0.073535  0.331357   0.088933  ...  0.185071 -0.042163  0.130548\n",
              "bmi        0.017683  0.221071   0.281805  ...  0.140647  0.036242  0.292695\n",
              "diabetes  -0.033523  0.137337   0.041265  ...  1.000000  0.033561  0.173844\n",
              "age        0.544341  0.263514   0.239528  ...  0.033561  1.000000  0.238356\n",
              "test       0.221898  0.466581   0.065068  ...  0.173844  0.238356  1.000000\n",
              "\n",
              "[9 rows x 9 columns]"
            ]
          },
          "metadata": {},
          "execution_count": 15
        }
      ]
    },
    {
      "cell_type": "code",
      "metadata": {
        "colab": {
          "base_uri": "https://localhost:8080/",
          "height": 667
        },
        "id": "-SXhRrgITguX",
        "outputId": "2c95164e-4d88-4374-a52c-f84fda641667"
      },
      "source": [
        "plt.figure(figsize=(14, 11))\n",
        "sns.heatmap(df.corr(), annot = True)"
      ],
      "execution_count": 12,
      "outputs": [
        {
          "output_type": "execute_result",
          "data": {
            "text/plain": [
              "<matplotlib.axes._subplots.AxesSubplot at 0x7fb74659c6d0>"
            ]
          },
          "metadata": {},
          "execution_count": 12
        },
        {
          "output_type": "display_data",
          "data": {
            "image/png": "[encoded data removed]",
            "text/plain": [
              "<Figure size 1008x792 with 2 Axes>"
            ]
          },
          "metadata": {
            "needs_background": "light"
          }
        }
      ]
    },
    {
      "cell_type": "code",
      "metadata": {
        "colab": {
          "base_uri": "https://localhost:8080/",
          "height": 885
        },
        "id": "EMp4i6GGBvoC",
        "outputId": "96587370-9e9f-4712-c15a-379c6bb181e1"
      },
      "source": [
        "plt.figure(figsize = (16, 7))\n",
        "plt.title('Распределение уровня глюкозы здорового человека')\n",
        "plt.hist(df.loc[df['test']==0].glucose)\n",
        "# plt.gcf().autofmt_xdate()\n",
        "plt.show()\n",
        "\n",
        "plt.figure(figsize = (16, 7))\n",
        "plt.title('Распределение уровня глюкозы человека с диабетом')\n",
        "plt.hist(df.loc[df['test']==1].glucose)\n",
        "# plt.gcf().autofmt_xdate()\n",
        "plt.show()"
      ],
      "execution_count": 91,
      "outputs": [
        {
          "output_type": "display_data",
          "data": {
            "image/png": "[encoded data removed]",
            "text/plain": [
              "<Figure size 1152x504 with 1 Axes>"
            ]
          },
          "metadata": {}
        },
        {
          "output_type": "display_data",
          "data": {
            "image/png": "[encoded data removed]",
            "text/plain": [
              "<Figure size 1152x504 with 1 Axes>"
            ]
          },
          "metadata": {}
        }
      ]
    },
    {
      "cell_type": "markdown",
      "metadata": {
        "id": "2TOVxZjjTguY"
      },
      "source": [
        "# Соотношение заболеваемости диабетом"
      ]
    },
    {
      "cell_type": "code",
      "metadata": {
        "colab": {
          "base_uri": "https://localhost:8080/"
        },
        "id": "nPRNashcTguY",
        "outputId": "2f7a4369-0625-40ed-8cf7-1ce35ba39b77"
      },
      "source": [
        "num_obs = len(df)\n",
        "num_true = len(df.loc[df['test'] == 1])\n",
        "num_false = len(df.loc[df['test'] == 0])\n",
        "print(\"Число с диабетом:  {0} ({1:2.2f}%)\".format(num_true, (num_true/num_obs) * 100))\n",
        "print(\"Число без диабета: {0} ({1:2.2f}%)\".format(num_false, (num_false/num_obs) * 100))"
      ],
      "execution_count": 13,
      "outputs": [
        {
          "output_type": "stream",
          "name": "stdout",
          "text": [
            "Число с диабетом:  268 (34.90%)\n",
            "Число без диабета: 500 (65.10%)\n"
          ]
        }
      ]
    },
    {
      "cell_type": "code",
      "metadata": {
        "colab": {
          "base_uri": "https://localhost:8080/",
          "height": 523
        },
        "id": "KKD9Jjnl5SXJ",
        "outputId": "104503c8-661a-44af-b787-c90d30c4c8fc"
      },
      "source": [
        "figure = plt.figure(figsize = (8, 8))\n",
        "figure.suptitle('Соотношение заболеваемости', fontsize=16)\n",
        "plt.pie([num_true, num_false], labels = [\n",
        "    \"Число с диабетом:  {0} ({1:2.2f}%)\".format(num_true, (num_true/num_obs) * 100),\n",
        "    \"Число без диабета: {0} ({1:2.2f}%)\".format(num_false, (num_false/num_obs) * 100)], textprops={'fontsize': 14})\n",
        "plt.show()"
      ],
      "execution_count": 17,
      "outputs": [
        {
          "output_type": "display_data",
          "data": {
            "image/png": "[encoded data removed]",
            "text/plain": [
              "<Figure size 576x576 with 1 Axes>"
            ]
          },
          "metadata": {}
        }
      ]
    },
    {
      "cell_type": "markdown",
      "metadata": {
        "id": "jyURvaZTTguY"
      },
      "source": [
        "В этом наборе данных есть ~34% случаев - имеют диабет. Это хорошее распределение так что больше никакой работы не требуется."
      ]
    },
    {
      "cell_type": "code",
      "metadata": {
        "colab": {
          "base_uri": "https://localhost:8080/"
        },
        "id": "oUBN071XTguY",
        "outputId": "51d791e2-a4bc-49a1-e080-fda5be78700d"
      },
      "source": [
        "print(\"# rows in dataframe {0}\".format(len(df)))\n",
        "counts_zero = []\n",
        "for column in list(df.columns)[:-1]:\n",
        "    print(\"# rows missing \"+column+\": {0}\".format(len(df.loc[df[column] == 0])))\n",
        "    counts_zero.append(len(df.loc[df[column] == 0]))"
      ],
      "execution_count": 29,
      "outputs": [
        {
          "output_type": "stream",
          "name": "stdout",
          "text": [
            "# rows in dataframe 768\n",
            "# rows missing pregnant: 111\n",
            "# rows missing glucose: 5\n",
            "# rows missing diastolic: 35\n",
            "# rows missing triceps: 227\n",
            "# rows missing insulin: 374\n",
            "# rows missing bmi: 11\n",
            "# rows missing diabetes: 0\n",
            "# rows missing age: 0\n"
          ]
        }
      ]
    },
    {
      "cell_type": "code",
      "metadata": {
        "colab": {
          "base_uri": "https://localhost:8080/",
          "height": 540
        },
        "id": "CfBWsnEr5pqy",
        "outputId": "dd548866-3ffc-47dd-84a5-fb8c66f9e6bb"
      },
      "source": [
        "figure = plt.figure(figsize = (15, 8))\n",
        "figure.suptitle('Количество значений равных 0', fontsize=16)\n",
        "plt.bar(list(df.columns)[:-1], counts_zero)\n",
        "plt.show()"
      ],
      "execution_count": 30,
      "outputs": [
        {
          "output_type": "display_data",
          "data": {
            "image/png": "[encoded data removed]",
            "text/plain": [
              "<Figure size 1080x576 with 1 Axes>"
            ]
          },
          "metadata": {
            "needs_background": "light"
          }
        }
      ]
    },
    {
      "cell_type": "code",
      "metadata": {
        "id": "cYvvJSGVTguY"
      },
      "source": [
        "df_filled = df.copy()"
      ],
      "execution_count": 25,
      "outputs": []
    },
    {
      "cell_type": "code",
      "metadata": {
        "id": "jFZv80RxTguY"
      },
      "source": [
        "for column in df_filled.columns[1:-1]:\n",
        "    df_filled[column] = df_filled[column].replace(to_replace=0, value = df[column].median())"
      ],
      "execution_count": 31,
      "outputs": []
    },
    {
      "cell_type": "code",
      "metadata": {
        "colab": {
          "base_uri": "https://localhost:8080/"
        },
        "id": "85JErDJWTguY",
        "outputId": "d56ef412-ebed-437f-a9d0-585cd4f3e9eb"
      },
      "source": [
        "print(\"# rows in dataframe {0}\".format(len(df)))\n",
        "for column in list(df_filled.columns)[:-1]:\n",
        "    print(\"# rows missing \"+column+\": {0}\".format(len(df_filled.loc[df_filled[column] == 0])))"
      ],
      "execution_count": 32,
      "outputs": [
        {
          "output_type": "stream",
          "name": "stdout",
          "text": [
            "# rows in dataframe 768\n",
            "# rows missing pregnant: 111\n",
            "# rows missing glucose: 0\n",
            "# rows missing diastolic: 0\n",
            "# rows missing triceps: 0\n",
            "# rows missing insulin: 0\n",
            "# rows missing bmi: 0\n",
            "# rows missing diabetes: 0\n",
            "# rows missing age: 0\n"
          ]
        }
      ]
    },
    {
      "cell_type": "markdown",
      "metadata": {
        "id": "tJcM59i1Tvp2"
      },
      "source": [
        "# Кросс-валидация: подбор модели\n",
        "\n",
        "кросс-валидация для 4 моделей - с незаполненными значениями, заполненными, без 1 поля, без 2х полей"
      ]
    },
    {
      "cell_type": "code",
      "metadata": {
        "id": "WCAY01Sq8M4I"
      },
      "source": [
        "from sklearn.preprocessing import MinMaxScaler as Scaler\n",
        "\n",
        "dfs = [\n",
        "    df.drop(\"test\", axis=1), \n",
        "    df_filled.drop(\"test\", axis=1), \n",
        "    df.drop([\"test\",'diastolic'], axis=1),  \n",
        "    df.drop([\"test\",'diastolic', 'triceps'], axis=1)]\n",
        "df_test = df['test'].copy()\n",
        "df_scaled = []\n",
        "scalers = []\n",
        "for i in range(0, len(dfs)):\n",
        "    scaler = Scaler()\n",
        "    scaler.fit(dfs[i])\n",
        "    df_scaled.append(scaler.transform(dfs[i]))\n",
        "    scalers.append(scaler)"
      ],
      "execution_count": 35,
      "outputs": []
    },
    {
      "cell_type": "code",
      "metadata": {
        "id": "ST-0xU1NTguZ"
      },
      "source": [
        "# Import all the algorithms we want to test\n",
        "from sklearn.linear_model import LogisticRegression\n",
        "from sklearn.neighbors import KNeighborsClassifier\n",
        "from sklearn.naive_bayes import GaussianNB\n",
        "from sklearn.svm import SVC\n",
        "from sklearn.svm import LinearSVC\n",
        "from sklearn.ensemble import RandomForestClassifier\n",
        "from sklearn.tree import DecisionTreeRegressor\n",
        "# Import the slearn utility to compare algorithms\n",
        "from sklearn import model_selection"
      ],
      "execution_count": 33,
      "outputs": []
    },
    {
      "cell_type": "code",
      "metadata": {
        "id": "brE9eTorTguZ"
      },
      "source": [
        "# Prepare an array with all the algorithms\n",
        "models = [\n",
        "    ('LR', LogisticRegression()),\n",
        "    ('KNN', KNeighborsClassifier()),\n",
        "    ('NB', GaussianNB()),\n",
        "    ('SVC', SVC()),\n",
        "    ('LSVC', LinearSVC()),\n",
        "    ('RFC', RandomForestClassifier()),\n",
        "    ('DTR', DecisionTreeRegressor())\n",
        "]"
      ],
      "execution_count": 36,
      "outputs": []
    },
    {
      "cell_type": "code",
      "metadata": {
        "colab": {
          "base_uri": "https://localhost:8080/",
          "height": 263
        },
        "id": "dn4J9V4DTguZ",
        "scrolled": false,
        "outputId": "6d992777-1d57-4677-d5ed-5ad085273f96"
      },
      "source": [
        "variants = []\n",
        "variant = ['С незаполненными значениями', \"Заполненными значениями по медиане\", \"Без diastolic\", \"Без diastolic & triceps\"]\n",
        "for i in range(0, len(variant)):\n",
        "    accuracies = []\n",
        "    for name, model in models:\n",
        "        kfold = model_selection.KFold(n_splits=10)\n",
        "        cv_results = model_selection.cross_val_score(\n",
        "            model, df_scaled[i], df_test, cv=kfold, scoring='accuracy')\n",
        "        accuracies.append({'name':name,'mean':cv_results.mean(), 'std':cv_results.std(), 'results':cv_results})\n",
        "    variants.append(pd.DataFrame(accuracies).sort_values('mean'))\n",
        "variants[0]"
      ],
      "execution_count": 40,
      "outputs": [
        {
          "output_type": "execute_result",
          "data": {
            "text/html": [
              "<div>\n",
              "<style scoped>\n",
              "    .dataframe tbody tr th:only-of-type {\n",
              "        vertical-align: middle;\n",
              "    }\n",
              "\n",
              "    .dataframe tbody tr th {\n",
              "        vertical-align: top;\n",
              "    }\n",
              "\n",
              "    .dataframe thead th {\n",
              "        text-align: right;\n",
              "    }\n",
              "</style>\n",
              "<table border=\"1\" class=\"dataframe\">\n",
              "  <thead>\n",
              "    <tr style=\"text-align: right;\">\n",
              "      <th></th>\n",
              "      <th>name</th>\n",
              "      <th>mean</th>\n",
              "      <th>std</th>\n",
              "      <th>results</th>\n",
              "    </tr>\n",
              "  </thead>\n",
              "  <tbody>\n",
              "    <tr>\n",
              "      <th>6</th>\n",
              "      <td>DTR</td>\n",
              "      <td>0.705622</td>\n",
              "      <td>0.057567</td>\n",
              "      <td>[0.6623376623376623, 0.7792207792207793, 0.662...</td>\n",
              "    </tr>\n",
              "    <tr>\n",
              "      <th>1</th>\n",
              "      <td>KNN</td>\n",
              "      <td>0.744754</td>\n",
              "      <td>0.060567</td>\n",
              "      <td>[0.6623376623376623, 0.8571428571428571, 0.675...</td>\n",
              "    </tr>\n",
              "    <tr>\n",
              "      <th>2</th>\n",
              "      <td>NB</td>\n",
              "      <td>0.755178</td>\n",
              "      <td>0.042766</td>\n",
              "      <td>[0.6753246753246753, 0.8051948051948052, 0.753...</td>\n",
              "    </tr>\n",
              "    <tr>\n",
              "      <th>5</th>\n",
              "      <td>RFC</td>\n",
              "      <td>0.764252</td>\n",
              "      <td>0.069824</td>\n",
              "      <td>[0.6753246753246753, 0.8311688311688312, 0.740...</td>\n",
              "    </tr>\n",
              "    <tr>\n",
              "      <th>0</th>\n",
              "      <td>LR</td>\n",
              "      <td>0.768250</td>\n",
              "      <td>0.048100</td>\n",
              "      <td>[0.7012987012987013, 0.8181818181818182, 0.740...</td>\n",
              "    </tr>\n",
              "    <tr>\n",
              "      <th>3</th>\n",
              "      <td>SVC</td>\n",
              "      <td>0.770830</td>\n",
              "      <td>0.051084</td>\n",
              "      <td>[0.6883116883116883, 0.8441558441558441, 0.727...</td>\n",
              "    </tr>\n",
              "    <tr>\n",
              "      <th>4</th>\n",
              "      <td>LSVC</td>\n",
              "      <td>0.772163</td>\n",
              "      <td>0.049933</td>\n",
              "      <td>[0.7012987012987013, 0.8181818181818182, 0.740...</td>\n",
              "    </tr>\n",
              "  </tbody>\n",
              "</table>\n",
              "</div>"
            ],
            "text/plain": [
              "   name      mean       std                                            results\n",
              "6   DTR  0.705622  0.057567  [0.6623376623376623, 0.7792207792207793, 0.662...\n",
              "1   KNN  0.744754  0.060567  [0.6623376623376623, 0.8571428571428571, 0.675...\n",
              "2    NB  0.755178  0.042766  [0.6753246753246753, 0.8051948051948052, 0.753...\n",
              "5   RFC  0.764252  0.069824  [0.6753246753246753, 0.8311688311688312, 0.740...\n",
              "0    LR  0.768250  0.048100  [0.7012987012987013, 0.8181818181818182, 0.740...\n",
              "3   SVC  0.770830  0.051084  [0.6883116883116883, 0.8441558441558441, 0.727...\n",
              "4  LSVC  0.772163  0.049933  [0.7012987012987013, 0.8181818181818182, 0.740..."
            ]
          },
          "metadata": {},
          "execution_count": 40
        }
      ]
    },
    {
      "cell_type": "code",
      "metadata": {
        "colab": {
          "base_uri": "https://localhost:8080/",
          "height": 1000
        },
        "id": "2o1Taf8oTguZ",
        "outputId": "d896cdc4-50ad-401b-e711-58b7090fc550"
      },
      "source": [
        "fig, axs = plt.subplots(ncols=4, nrows=2)\n",
        "sns.set(style=\"whitegrid\", color_codes=True, font_scale = 2)\n",
        "fig.set_size_inches(30,25)\n",
        "for i in range(0, 4):\n",
        "    sns.barplot(x='name', y='mean', data=variants[i], ax=axs[0,i], color='lightgrey')\n",
        "    axs[0,i].set_title(label = variant[i], size=20, weight='bold')\n",
        "for i in range(0, 4):\n",
        "    sns.barplot(x='name', y='std', data=variants[i], ax=axs[1,i], color='lightgrey')\n",
        "    axs[1,i].set_title(label = variant[i], size=20, weight='bold')"
      ],
      "execution_count": 41,
      "outputs": [
        {
          "output_type": "display_data",
          "data": {
            "image/png": "[encoded data removed]",
            "text/plain": [
              "<Figure size 2160x1800 with 8 Axes>"
            ]
          },
          "metadata": {
            "needs_background": "light"
          }
        }
      ]
    },
    {
      "cell_type": "markdown",
      "metadata": {
        "id": "4N9w_4BITgua"
      },
      "source": [
        "Шпаргалка\n",
        "\n",
        "<img src=\"https://upload.wikimedia.org/wikipedia/commons/3/32/Densityvsbox.png\"></img>"
      ]
    },
    {
      "cell_type": "code",
      "metadata": {
        "colab": {
          "base_uri": "https://localhost:8080/",
          "height": 1000
        },
        "id": "9na_ae9XTgua",
        "outputId": "82f89964-9607-4553-a2f1-dca89ea53919"
      },
      "source": [
        "sns.set(style=\"whitegrid\", color_codes=True, font_scale = 1.2)\n",
        "for i in range(0, 4):\n",
        "    fig = plt.figure()\n",
        "    fig.suptitle(variant[i]+'\\nСреднее accurancy:'+str(round(variants[i]['mean'].mean(),3)), size = 18)\n",
        "    ax = fig.add_subplot(111)\n",
        "    plt.boxplot(variants[i]['results'])\n",
        "    ax.set_xticklabels(variants[i]['name'], size = 14)\n",
        "    plt.show()"
      ],
      "execution_count": 44,
      "outputs": [
        {
          "output_type": "display_data",
          "data": {
            "image/png": "[encoded data removed]",
            "text/plain": [
              "<Figure size 432x288 with 1 Axes>"
            ]
          },
          "metadata": {}
        },
        {
          "output_type": "display_data",
          "data": {
            "image/png": "[encoded data removed]",
            "text/plain": [
              "<Figure size 432x288 with 1 Axes>"
            ]
          },
          "metadata": {}
        },
        {
          "output_type": "display_data",
          "data": {
            "image/png": "[encoded data removed]",
            "text/plain": [
              "<Figure size 432x288 with 1 Axes>"
            ]
          },
          "metadata": {}
        },
        {
          "output_type": "display_data",
          "data": {
            "image/png": "[encoded data removed]",
            "text/plain": [
              "<Figure size 432x288 with 1 Axes>"
            ]
          },
          "metadata": {}
        }
      ]
    },
    {
      "cell_type": "markdown",
      "metadata": {
        "id": "0rIt32vtTguZ"
      },
      "source": [
        "# Деление данных"
      ]
    },
    {
      "cell_type": "code",
      "metadata": {
        "id": "VDU5FxuuTguZ"
      },
      "source": [
        "# Split the training dataset in 70% / 30%\n",
        "from sklearn.model_selection import train_test_split\n",
        "\n",
        "train_set_labels = []\n",
        "train_sets = []\n",
        "test_set_labels = []\n",
        "test_sets = []\n",
        "\n",
        "train_set, test_set = train_test_split(\n",
        "    df, test_size=0.3, random_state=42)\n",
        "\n",
        "train_set_labels.append(train_set[\"test\"].copy())\n",
        "train_sets.append(train_set.drop(\"test\", axis=1))\n",
        "\n",
        "test_set_labels.append(test_set[\"test\"].copy())\n",
        "test_sets.append(test_set.drop(\"test\", axis=1))\n",
        "\n",
        "train_set, test_set = train_test_split(\n",
        "    df_filled, test_size=0.3, random_state=42)\n",
        "\n",
        "train_set_labels.extend([train_set[\"test\"].copy(), train_set[\"test\"].copy(), train_set[\"test\"].copy()])\n",
        "train_sets.extend([\n",
        "    train_set.drop(\"test\", axis=1), \n",
        "    train_set.drop([\"test\",'diastolic'], axis=1),  \n",
        "    train_set.drop([\"test\",'diastolic', 'triceps'], axis=1)])\n",
        "\n",
        "test_set_labels.extend([test_set[\"test\"].copy(), test_set[\"test\"].copy(), test_set[\"test\"].copy()])\n",
        "test_sets.extend([\n",
        "    test_set.drop(\"test\", axis=1), \n",
        "    test_set.drop([\"test\",'diastolic'], axis=1),  \n",
        "    test_set.drop([\"test\",'diastolic', 'triceps'], axis=1)])"
      ],
      "execution_count": 46,
      "outputs": []
    },
    {
      "cell_type": "markdown",
      "metadata": {
        "id": "cyUqci78TmVA"
      },
      "source": [
        "# Нормализация данных"
      ]
    },
    {
      "cell_type": "code",
      "metadata": {
        "id": "E2XOiyFWTguZ"
      },
      "source": [
        "from sklearn.preprocessing import MinMaxScaler as Scaler\n",
        "\n",
        "train_set_scaled = []\n",
        "test_set_scaled = []\n",
        "\n",
        "scalers = []\n",
        "for i in range(0, len(train_sets)):\n",
        "    scaler = Scaler()\n",
        "    scaler.fit(train_sets[i])\n",
        "    train_set_scaled.append(scaler.transform(train_sets[i]))\n",
        "    test_set_scaled.append(scaler.transform(test_sets[i]))\n",
        "    scalers.append(scaler)"
      ],
      "execution_count": 47,
      "outputs": []
    },
    {
      "cell_type": "code",
      "metadata": {
        "colab": {
          "base_uri": "https://localhost:8080/",
          "height": 202
        },
        "id": "CNzJ0HiCTguZ",
        "outputId": "c4436684-299f-4942-b03f-477417c27ce9"
      },
      "source": [
        "df = pd.DataFrame(data=train_set_scaled[0], columns = train_sets[0].columns)\n",
        "df.head()"
      ],
      "execution_count": 48,
      "outputs": [
        {
          "output_type": "execute_result",
          "data": {
            "text/html": [
              "<div>\n",
              "<style scoped>\n",
              "    .dataframe tbody tr th:only-of-type {\n",
              "        vertical-align: middle;\n",
              "    }\n",
              "\n",
              "    .dataframe tbody tr th {\n",
              "        vertical-align: top;\n",
              "    }\n",
              "\n",
              "    .dataframe thead th {\n",
              "        text-align: right;\n",
              "    }\n",
              "</style>\n",
              "<table border=\"1\" class=\"dataframe\">\n",
              "  <thead>\n",
              "    <tr style=\"text-align: right;\">\n",
              "      <th></th>\n",
              "      <th>pregnant</th>\n",
              "      <th>glucose</th>\n",
              "      <th>diastolic</th>\n",
              "      <th>triceps</th>\n",
              "      <th>insulin</th>\n",
              "      <th>bmi</th>\n",
              "      <th>diabetes</th>\n",
              "      <th>age</th>\n",
              "    </tr>\n",
              "  </thead>\n",
              "  <tbody>\n",
              "    <tr>\n",
              "      <th>0</th>\n",
              "      <td>0.058824</td>\n",
              "      <td>0.477387</td>\n",
              "      <td>0.491803</td>\n",
              "      <td>0.285714</td>\n",
              "      <td>0.068558</td>\n",
              "      <td>0.356185</td>\n",
              "      <td>0.077711</td>\n",
              "      <td>0.016667</td>\n",
              "    </tr>\n",
              "    <tr>\n",
              "      <th>1</th>\n",
              "      <td>0.294118</td>\n",
              "      <td>0.527638</td>\n",
              "      <td>0.590164</td>\n",
              "      <td>0.460317</td>\n",
              "      <td>0.384161</td>\n",
              "      <td>0.549925</td>\n",
              "      <td>0.034586</td>\n",
              "      <td>0.116667</td>\n",
              "    </tr>\n",
              "    <tr>\n",
              "      <th>2</th>\n",
              "      <td>0.000000</td>\n",
              "      <td>0.678392</td>\n",
              "      <td>0.557377</td>\n",
              "      <td>0.666667</td>\n",
              "      <td>0.295508</td>\n",
              "      <td>0.630402</td>\n",
              "      <td>0.122545</td>\n",
              "      <td>0.050000</td>\n",
              "    </tr>\n",
              "    <tr>\n",
              "      <th>3</th>\n",
              "      <td>0.235294</td>\n",
              "      <td>0.658291</td>\n",
              "      <td>0.557377</td>\n",
              "      <td>0.333333</td>\n",
              "      <td>0.196217</td>\n",
              "      <td>0.493294</td>\n",
              "      <td>0.035013</td>\n",
              "      <td>0.116667</td>\n",
              "    </tr>\n",
              "    <tr>\n",
              "      <th>4</th>\n",
              "      <td>0.058824</td>\n",
              "      <td>0.517588</td>\n",
              "      <td>0.245902</td>\n",
              "      <td>0.603175</td>\n",
              "      <td>0.098109</td>\n",
              "      <td>0.645306</td>\n",
              "      <td>0.044833</td>\n",
              "      <td>0.200000</td>\n",
              "    </tr>\n",
              "  </tbody>\n",
              "</table>\n",
              "</div>"
            ],
            "text/plain": [
              "   pregnant   glucose  diastolic  ...       bmi  diabetes       age\n",
              "0  0.058824  0.477387   0.491803  ...  0.356185  0.077711  0.016667\n",
              "1  0.294118  0.527638   0.590164  ...  0.549925  0.034586  0.116667\n",
              "2  0.000000  0.678392   0.557377  ...  0.630402  0.122545  0.050000\n",
              "3  0.235294  0.658291   0.557377  ...  0.493294  0.035013  0.116667\n",
              "4  0.058824  0.517588   0.245902  ...  0.645306  0.044833  0.200000\n",
              "\n",
              "[5 rows x 8 columns]"
            ]
          },
          "metadata": {},
          "execution_count": 48
        }
      ]
    },
    {
      "cell_type": "markdown",
      "metadata": {
        "id": "q0QAy9VPCJFa"
      },
      "source": [
        "# Моделирование"
      ]
    },
    {
      "cell_type": "code",
      "metadata": {
        "id": "tePW8WBITgua"
      },
      "source": [
        "#логер\n",
        "def log_progress(sequence, every=None, size=None):\n",
        "    from ipywidgets import IntProgress, HTML, VBox\n",
        "    from IPython.display import display\n",
        "    \n",
        "    is_iterator = False\n",
        "    if size is None:\n",
        "        try:\n",
        "            size = len(sequence)\n",
        "        except TypeError:\n",
        "            is_iterator = True\n",
        "    if size is not None:\n",
        "        if every is None:\n",
        "            if size <= 200:\n",
        "                every = 1\n",
        "            else:\n",
        "                every = size / 200     # every 0.5%\n",
        "    else:\n",
        "        assert every is not None, 'sequence is iterator, set every'\n",
        "\n",
        "    if is_iterator:\n",
        "        progress = IntProgress(min=0, max=1, value=1)\n",
        "        progress.bar_style = 'info'\n",
        "    else:\n",
        "        progress = IntProgress(min=0, max=size, value=0)\n",
        "    label = HTML()\n",
        "    box = VBox(children=[label, progress])\n",
        "    display(box)\n",
        "    \n",
        "    index = 0\n",
        "    try:\n",
        "        for index, record in enumerate(sequence, 1):\n",
        "            \n",
        "            if index == 1 or index % every == 0:\n",
        "                if is_iterator:\n",
        "                    label.value = '{index} / ?'.format(index=index)\n",
        "                else:\n",
        "                    progress.value = index\n",
        "                    label.value = u'{index} / {size}'.format(\n",
        "                        index=index,\n",
        "                        size=size\n",
        "                    )\n",
        "            yield record\n",
        "    except:\n",
        "        progress.bar_style = 'danger'\n",
        "        raise\n",
        "    else:\n",
        "        progress.bar_style = 'success'\n",
        "        progress.value = index\n",
        "        label.value = str(index or '?')"
      ],
      "execution_count": 49,
      "outputs": []
    },
    {
      "cell_type": "code",
      "metadata": {
        "colab": {
          "base_uri": "https://localhost:8080/",
          "height": 81,
          "referenced_widgets": [
            "5e4e871d0c374254b4584614180ac8af",
            "13f93e388ab94bef80c4721ca76ccd37",
            "eac594f193464dbf91316b4d5b618478",
            "4426a85f420e40d39ee4de4bd6cfed1e",
            "ee579ebc01b74ca2ad1dc2559c4bb755",
            "2e17952e115147b8aa872a938b400e72",
            "f33c065800a143b29ef4f275cb4c3f61",
            "8b9dd5d990b34d96b1d0d3b88ea5fdf0"
          ]
        },
        "id": "qW9YSZleTgua",
        "scrolled": true,
        "outputId": "21f9c293-fdf9-418f-a8d5-24e8b001a3bb"
      },
      "source": [
        "from sklearn.model_selection import GridSearchCV\n",
        "\n",
        "best_models_labels = [ 'RFC', 'RFC','SVC', 'SVC']\n",
        "best_models = [\n",
        "    RandomForestClassifier(), \n",
        "    RandomForestClassifier(), \n",
        "    SVC(probability=True), \n",
        "    SVC(probability=True) \n",
        "]\n",
        "\n",
        "param_grid={\n",
        "    'RFC':{\n",
        "        'n_estimators'  : [200, 700],\n",
        "        'max_features'  : ['auto', 'sqrt', 'log2'],\n",
        "        \"criterion\"     : [\"gini\", \"entropy\"],\n",
        "        \"max_features\"  : [3, 5],\n",
        "        'max_depth'     : [8, 9, 10, 11, 12]\n",
        "    },\n",
        "    'LSVC':{\n",
        "        'C':np.arange(0.01,100,10)\n",
        "    },\n",
        "    'SVC':{\n",
        "      'C': [1.0, 10.0, 50.0],\n",
        "      'kernel': ['linear', 'rbf', 'poly', 'sigmoid'],\n",
        "      'shrinking': [True, False],\n",
        "      'gamma': ['auto', 1, 0.1],\n",
        "      'coef0': [0.0, 0.1, 0.5]\n",
        "    }\n",
        "    \n",
        "}\n",
        "grids_search = []\n",
        "for i in log_progress(range(4), 1):\n",
        "    model = best_models[i]\n",
        "    if best_models_labels[i] == 'RFC':\n",
        "        grid_search = GridSearchCV(model, param_grid[best_models_labels[i]], cv=5, scoring='accuracy')\n",
        "    else:\n",
        "        grid_search = GridSearchCV(model, param_grid[best_models_labels[i]], cv=10, scoring='accuracy')\n",
        "    # model_svc = LinearSVC(random_state = 42)\n",
        "    # grid_search = GridSearchCV(\n",
        "    #     model_svc, {'C':np.arange(0.01,100,10)}, cv=5, scoring='accuracy')\n",
        "    grid_search.fit(train_set_scaled[i], train_set_labels[i])\n",
        "    grids_search.append(grid_search)"
      ],
      "execution_count": 61,
      "outputs": [
        {
          "output_type": "display_data",
          "data": {
            "application/vnd.jupyter.widget-view+json": {
              "model_id": "5e4e871d0c374254b4584614180ac8af",
              "version_minor": 0,
              "version_major": 2
            },
            "text/plain": [
              "VBox(children=(HTML(value=''), IntProgress(value=0, max=4)))"
            ]
          },
          "metadata": {}
        }
      ]
    },
    {
      "cell_type": "code",
      "metadata": {
        "id": "1X5XeeYWTgub"
      },
      "source": [
        "best_scores = [grids_search[i].best_score_ for i in range(4)]"
      ],
      "execution_count": 62,
      "outputs": []
    },
    {
      "cell_type": "code",
      "metadata": {
        "colab": {
          "base_uri": "https://localhost:8080/",
          "height": 752
        },
        "id": "HbE-YstpTgub",
        "outputId": "a49c8c1a-963f-414c-d917-d50382420f2a"
      },
      "source": [
        "plt.figure(figsize=[8, 11])\n",
        "plt.bar(variant, best_scores, )\n",
        "for x, y in zip(np.arange(4), best_scores):\n",
        "    plt.text(x, y + 0.05, '%f' % y, ha='center', va = 'bottom')\n",
        "plt.gcf().autofmt_xdate()"
      ],
      "execution_count": 63,
      "outputs": [
        {
          "output_type": "display_data",
          "data": {
            "image/png": "[encoded data removed]",
            "text/plain": [
              "<Figure size 576x792 with 1 Axes>"
            ]
          },
          "metadata": {}
        }
      ]
    },
    {
      "cell_type": "code",
      "metadata": {
        "colab": {
          "base_uri": "https://localhost:8080/"
        },
        "id": "v9If_MJWTgub",
        "outputId": "6623bedb-0bfc-4559-97bc-f8db0312cc9a"
      },
      "source": [
        "models2 = []\n",
        "for i in range(0, 4):\n",
        "    m = grids_search[i].best_estimator_\n",
        "\n",
        "    # Use the whole dataset to train the model\n",
        "    X = np.append(train_set_scaled[i], test_set_scaled[i], axis=0)\n",
        "    Y = np.append(train_set_labels[i], test_set_labels[i], axis=0)\n",
        "\n",
        "    # Train the model\n",
        "    m.fit(X, Y)\n",
        "    print(m.fit(X, Y))\n",
        "    models2.append(m)"
      ],
      "execution_count": 67,
      "outputs": [
        {
          "output_type": "stream",
          "name": "stdout",
          "text": [
            "RandomForestClassifier(bootstrap=True, ccp_alpha=0.0, class_weight=None,\n",
            "                       criterion='entropy', max_depth=11, max_features=5,\n",
            "                       max_leaf_nodes=None, max_samples=None,\n",
            "                       min_impurity_decrease=0.0, min_impurity_split=None,\n",
            "                       min_samples_leaf=1, min_samples_split=2,\n",
            "                       min_weight_fraction_leaf=0.0, n_estimators=200,\n",
            "                       n_jobs=None, oob_score=False, random_state=None,\n",
            "                       verbose=0, warm_start=False)\n",
            "RandomForestClassifier(bootstrap=True, ccp_alpha=0.0, class_weight=None,\n",
            "                       criterion='gini', max_depth=11, max_features=3,\n",
            "                       max_leaf_nodes=None, max_samples=None,\n",
            "                       min_impurity_decrease=0.0, min_impurity_split=None,\n",
            "                       min_samples_leaf=1, min_samples_split=2,\n",
            "                       min_weight_fraction_leaf=0.0, n_estimators=200,\n",
            "                       n_jobs=None, oob_score=False, random_state=None,\n",
            "                       verbose=0, warm_start=False)\n",
            "SVC(C=10.0, break_ties=False, cache_size=200, class_weight=None, coef0=0.5,\n",
            "    decision_function_shape='ovr', degree=3, gamma=0.1, kernel='poly',\n",
            "    max_iter=-1, probability=True, random_state=None, shrinking=True, tol=0.001,\n",
            "    verbose=False)\n",
            "SVC(C=10.0, break_ties=False, cache_size=200, class_weight=None, coef0=0.5,\n",
            "    decision_function_shape='ovr', degree=3, gamma=1, kernel='poly',\n",
            "    max_iter=-1, probability=True, random_state=None, shrinking=True, tol=0.001,\n",
            "    verbose=False)\n"
          ]
        }
      ]
    },
    {
      "cell_type": "markdown",
      "metadata": {
        "id": "cwtunVZFCSYh"
      },
      "source": [
        "# Прогнозирование"
      ]
    },
    {
      "cell_type": "code",
      "metadata": {
        "colab": {
          "base_uri": "https://localhost:8080/"
        },
        "id": "SkJRt1o1Y8QP",
        "outputId": "218c5260-4145-47cd-b4c1-a5cc4f16f901"
      },
      "source": [
        "df.values"
      ],
      "execution_count": 68,
      "outputs": [
        {
          "output_type": "execute_result",
          "data": {
            "text/plain": [
              "array([[0.05882353, 0.47738693, 0.49180328, ..., 0.3561848 , 0.07771136,\n",
              "        0.01666667],\n",
              "       [0.29411765, 0.52763819, 0.59016393, ..., 0.54992548, 0.03458582,\n",
              "        0.11666667],\n",
              "       [0.        , 0.67839196, 0.55737705, ..., 0.63040238, 0.12254483,\n",
              "        0.05      ],\n",
              "       ...,\n",
              "       [0.58823529, 0.50753769, 0.70491803, ..., 0.67958271, 0.45175064,\n",
              "        0.28333333],\n",
              "       [0.        , 0.70854271, 0.        , ..., 0.6318927 , 0.05422716,\n",
              "        0.13333333],\n",
              "       [0.        , 0.6281407 , 0.78688525, ..., 0.33532042, 0.07856533,\n",
              "        0.        ]])"
            ]
          },
          "metadata": {},
          "execution_count": 68
        }
      ]
    },
    {
      "cell_type": "code",
      "metadata": {
        "colab": {
          "base_uri": "https://localhost:8080/",
          "height": 281
        },
        "id": "DxPQ6hpcYAdE",
        "outputId": "c4b73fea-2327-425e-fa97-9f589d7bb90b"
      },
      "source": [
        "temp_df = pd.DataFrame({'name':df.columns, 'importance':models2[0].feature_importances_}).sort_values('importance')\n",
        "plt.bar(temp_df.name, temp_df.importance)\n",
        "plt.gcf().autofmt_xdate()"
      ],
      "execution_count": 69,
      "outputs": [
        {
          "output_type": "display_data",
          "data": {
            "image/png": "[encoded data removed]",
            "text/plain": [
              "<Figure size 432x288 with 1 Axes>"
            ]
          },
          "metadata": {}
        }
      ]
    },
    {
      "cell_type": "code",
      "metadata": {
        "id": "0Bi6wc7DTgub",
        "colab": {
          "base_uri": "https://localhost:8080/"
        },
        "outputId": "5f8831c2-90f2-4cca-b301-d81cde375492"
      },
      "source": [
        "# We create a new (fake) person having the three most correated values high\n",
        "new_df = pd.DataFrame([[1, 99, 64, 22, 76, 27, 0.25, 25]]) \n",
        "# We scale those values like the others\n",
        "new_df_scaled = scalers[0].transform(new_df)\n",
        "# We predict the outcome\n",
        "models2[0].predict(new_df_scaled), models2[0].predict_proba(new_df_scaled)"
      ],
      "execution_count": 79,
      "outputs": [
        {
          "output_type": "execute_result",
          "data": {
            "text/plain": [
              "(array([0]), array([[0.94846591, 0.05153409]]))"
            ]
          },
          "metadata": {},
          "execution_count": 79
        }
      ]
    },
    {
      "cell_type": "code",
      "metadata": {
        "id": "rAyCl71PVfCQ",
        "colab": {
          "base_uri": "https://localhost:8080/"
        },
        "outputId": "9001b025-d51c-4b5d-d19f-3457a5ae8c8a"
      },
      "source": [
        "# We create a new (fake) person having the three most correated values high\n",
        "new_df = pd.DataFrame([[1, 99, 64, 22, 76, 27, 0.25, 25]]) \n",
        "# We scale those values like the others\n",
        "new_df_scaled = scalers[1].transform(new_df)\n",
        "# We predict the outcome\n",
        "models2[1].predict(new_df_scaled), models2[1].predict_proba(new_df_scaled)"
      ],
      "execution_count": 78,
      "outputs": [
        {
          "output_type": "execute_result",
          "data": {
            "text/plain": [
              "(array([0]), array([[0.96969027, 0.03030973]]))"
            ]
          },
          "metadata": {},
          "execution_count": 78
        }
      ]
    },
    {
      "cell_type": "code",
      "metadata": {
        "colab": {
          "base_uri": "https://localhost:8080/",
          "height": 110
        },
        "id": "kClGNGMZLw5z",
        "outputId": "c1940879-97a6-4473-80c1-1adb9299ddef"
      },
      "source": [
        "df_filled.loc[df_filled['pregnant']==1].loc[df_filled.glucose==99]"
      ],
      "execution_count": 72,
      "outputs": [
        {
          "output_type": "execute_result",
          "data": {
            "text/html": [
              "<div>\n",
              "<style scoped>\n",
              "    .dataframe tbody tr th:only-of-type {\n",
              "        vertical-align: middle;\n",
              "    }\n",
              "\n",
              "    .dataframe tbody tr th {\n",
              "        vertical-align: top;\n",
              "    }\n",
              "\n",
              "    .dataframe thead th {\n",
              "        text-align: right;\n",
              "    }\n",
              "</style>\n",
              "<table border=\"1\" class=\"dataframe\">\n",
              "  <thead>\n",
              "    <tr style=\"text-align: right;\">\n",
              "      <th></th>\n",
              "      <th>pregnant</th>\n",
              "      <th>glucose</th>\n",
              "      <th>diastolic</th>\n",
              "      <th>triceps</th>\n",
              "      <th>insulin</th>\n",
              "      <th>bmi</th>\n",
              "      <th>diabetes</th>\n",
              "      <th>age</th>\n",
              "      <th>test</th>\n",
              "    </tr>\n",
              "  </thead>\n",
              "  <tbody>\n",
              "    <tr>\n",
              "      <th>567</th>\n",
              "      <td>1</td>\n",
              "      <td>99</td>\n",
              "      <td>72</td>\n",
              "      <td>30</td>\n",
              "      <td>18.0</td>\n",
              "      <td>38.6</td>\n",
              "      <td>0.412</td>\n",
              "      <td>21</td>\n",
              "      <td>0</td>\n",
              "    </tr>\n",
              "    <tr>\n",
              "      <th>672</th>\n",
              "      <td>1</td>\n",
              "      <td>99</td>\n",
              "      <td>58</td>\n",
              "      <td>10</td>\n",
              "      <td>30.5</td>\n",
              "      <td>25.4</td>\n",
              "      <td>0.551</td>\n",
              "      <td>21</td>\n",
              "      <td>0</td>\n",
              "    </tr>\n",
              "  </tbody>\n",
              "</table>\n",
              "</div>"
            ],
            "text/plain": [
              "     pregnant  glucose  diastolic  triceps  insulin   bmi  diabetes  age  test\n",
              "567         1       99         72       30     18.0  38.6     0.412   21     0\n",
              "672         1       99         58       10     30.5  25.4     0.551   21     0"
            ]
          },
          "metadata": {},
          "execution_count": 72
        }
      ]
    },
    {
      "cell_type": "code",
      "metadata": {
        "id": "OFBsz97DTgub",
        "colab": {
          "base_uri": "https://localhost:8080/"
        },
        "outputId": "feeaabc7-4ca6-4eb8-aa42-8489344b44e7"
      },
      "source": [
        "# We create a new (fake) person having the three most correated values high\n",
        "new_df = pd.DataFrame([[1, 99, 22, 76, 27, 0.25, 25]])\n",
        "# We scale those values like the others\n",
        "new_df_scaled = scalers[2].transform(new_df)\n",
        "# We predict the outcome\n",
        "models2[2].predict(new_df_scaled), models2[2].predict_proba(new_df_scaled)"
      ],
      "execution_count": 74,
      "outputs": [
        {
          "output_type": "execute_result",
          "data": {
            "text/plain": [
              "(array([0]), array([[0.92167574, 0.07832426]]))"
            ]
          },
          "metadata": {},
          "execution_count": 74
        }
      ]
    },
    {
      "cell_type": "code",
      "metadata": {
        "id": "jSsK-7nZTgub",
        "colab": {
          "base_uri": "https://localhost:8080/"
        },
        "outputId": "bbd66268-7236-409a-ed03-25c6bc5269c0"
      },
      "source": [
        "# We create a new (fake) person having the three most correated values high\n",
        "new_df = pd.DataFrame([[1, 99, 76, 27, 0.25, 25]])\n",
        "# We scale those values like the others\n",
        "new_df_scaled = scalers[3].transform(new_df)\n",
        "# We predict the outcome\n",
        "models2[3].predict(new_df_scaled), models2[3].predict_proba(new_df_scaled)"
      ],
      "execution_count": 76,
      "outputs": [
        {
          "output_type": "execute_result",
          "data": {
            "text/plain": [
              "(array([0]), array([[0.90276169, 0.09723831]]))"
            ]
          },
          "metadata": {},
          "execution_count": 76
        }
      ]
    }
  ]
}